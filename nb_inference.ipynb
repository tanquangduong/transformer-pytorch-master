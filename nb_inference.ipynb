{
 "cells": [
  {
   "cell_type": "markdown",
   "metadata": {},
   "source": [
    "## Load required packages"
   ]
  },
  {
   "cell_type": "code",
   "execution_count": 1,
   "metadata": {},
   "outputs": [],
   "source": [
    "import torch\n",
    "from transformer.utils import create_tranformer_model\n",
    "from transformer.utils import load_config, get_dataset, get_tokenizer\n",
    "from transformer.utils import get_checkpoint_path\n",
    "from transformer.engine import inference"
   ]
  },
  {
   "cell_type": "markdown",
   "metadata": {},
   "source": [
    "## Load configuration"
   ]
  },
  {
   "cell_type": "code",
   "execution_count": 2,
   "metadata": {},
   "outputs": [
    {
     "name": "stdout",
     "output_type": "stream",
     "text": [
      "Using cuda device\n"
     ]
    }
   ],
   "source": [
    "# Assign the device for computation (GPU if available, else CPU)\n",
    "device = torch.device(\"cuda\" if torch.cuda.is_available() else \"cpu\")\n",
    "print(f\"Using {device} device\")\n",
    "## Get Config, dataset, tokenizers\n",
    "config_file_path = \"./config.json\"\n",
    "config = load_config(config_file_path)\n",
    "dataset = get_dataset(config)\n",
    "tokenizer_src = get_tokenizer(config, dataset, config['language_source'])\n",
    "tokenizer_tgt = get_tokenizer(config, dataset, config['language_target'])\n",
    "\n",
    "## Define model, random input and get random output\n",
    "# Define the dimensions and vocabulary size\n",
    "# Define the parameters for the transformer model\n",
    "vocab_size_src = tokenizer_src.get_vocab_size()\n",
    "vocab_size_tgt = tokenizer_tgt.get_vocab_size()\n",
    "seq_len = config['seq_len']\n"
   ]
  },
  {
   "cell_type": "markdown",
   "metadata": {},
   "source": [
    "## Load model and latest checkpoint"
   ]
  },
  {
   "cell_type": "code",
   "execution_count": 3,
   "metadata": {},
   "outputs": [
    {
     "name": "stdout",
     "output_type": "stream",
     "text": [
      "model_checkpoint: models\\transformer_16.pt\n"
     ]
    },
    {
     "name": "stderr",
     "output_type": "stream",
     "text": [
      "C:\\Users\\easyb\\AppData\\Local\\Temp\\ipykernel_11604\\2278621582.py:6: FutureWarning: You are using `torch.load` with `weights_only=False` (the current default value), which uses the default pickle module implicitly. It is possible to construct malicious pickle data which will execute arbitrary code during unpickling (See https://github.com/pytorch/pytorch/blob/main/SECURITY.md#untrusted-models for more details). In a future release, the default value for `weights_only` will be flipped to `True`. This limits the functions that could be executed during unpickling. Arbitrary objects will no longer be allowed to be loaded via this mode unless they are explicitly allowlisted by the user via `torch.serialization.add_safe_globals`. We recommend you start setting `weights_only=True` for any use case where you don't have full control of the loaded file. Please open an issue on GitHub for any issues related to this experimental feature.\n",
      "  state = torch.load(model_checkpoint)\n"
     ]
    },
    {
     "data": {
      "text/plain": [
       "<All keys matched successfully>"
      ]
     },
     "execution_count": 3,
     "metadata": {},
     "output_type": "execute_result"
    }
   ],
   "source": [
    "# Create the Transformer model\n",
    "model = create_tranformer_model(config, vocab_size_src, vocab_size_tgt).to(device)\n",
    "# Load latest checkpoint\n",
    "model_checkpoint = get_checkpoint_path(config)\n",
    "print(\"model_checkpoint:\", model_checkpoint)\n",
    "state = torch.load(model_checkpoint)\n",
    "# Assign latest checkpoint to transfromer\n",
    "model.load_state_dict(state['model_state_dict'])"
   ]
  },
  {
   "cell_type": "markdown",
   "metadata": {},
   "source": [
    "## Translation "
   ]
  },
  {
   "cell_type": "code",
   "execution_count": 4,
   "metadata": {},
   "outputs": [
    {
     "name": "stdout",
     "output_type": "stream",
     "text": [
      "Source text: \n",
      " Market prices are shaped by the balance of supply and demand.\n",
      ">>>>\n",
      "Translated text: \n",
      " Les prix du marché sont façonnés par l ' équilibre de l ' offre et de la demande .\n"
     ]
    }
   ],
   "source": [
    "source_text = \"Market prices are shaped by the balance of supply and demand.\"\n",
    "translated_text = inference(source_text, \n",
    "                            model, \n",
    "                            tokenizer_src, \n",
    "                            tokenizer_tgt,\n",
    "                            seq_len,\n",
    "                            device)\n",
    "\n",
    "print(\"Source text: \\n\", source_text)\n",
    "print(\">>>>\")\n",
    "print(\"Translated text: \\n\", translated_text)"
   ]
  },
  {
   "cell_type": "code",
   "execution_count": 5,
   "metadata": {},
   "outputs": [
    {
     "name": "stdout",
     "output_type": "stream",
     "text": [
      "Encoding 'shaped' [3621]\n",
      "Encoding 'déterminés' [4343]\n"
     ]
    }
   ],
   "source": [
    "# Check token availability of a word\n",
    "print(\"Encoding \\'shaped\\'\", tokenizer_src.encode('shaped' ).ids)\n",
    "print(\"Encoding \\'déterminés\\'\", tokenizer_tgt.encode('déterminés' ).ids)"
   ]
  },
  {
   "cell_type": "code",
   "execution_count": null,
   "metadata": {},
   "outputs": [],
   "source": []
  }
 ],
 "metadata": {
  "kernelspec": {
   "display_name": "part3-trans",
   "language": "python",
   "name": "python3"
  },
  "language_info": {
   "codemirror_mode": {
    "name": "ipython",
    "version": 3
   },
   "file_extension": ".py",
   "mimetype": "text/x-python",
   "name": "python",
   "nbconvert_exporter": "python",
   "pygments_lexer": "ipython3",
   "version": "3.11.9"
  }
 },
 "nbformat": 4,
 "nbformat_minor": 2
}
