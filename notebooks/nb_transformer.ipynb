{
 "cells": [
  {
   "cell_type": "code",
   "execution_count": 2,
   "metadata": {},
   "outputs": [
    {
     "name": "stdout",
     "output_type": "stream",
     "text": [
      "Predicted sequence: \n",
      " pas économie , faire moins Mais politiques un – une , sur Le moins sans tout\n"
     ]
    }
   ],
   "source": [
    "import sys\n",
    "sys.path.append('../')\n",
    "import torch\n",
    "from transformer.utils import create_tranformer_model\n",
    "from transformer.utils import load_config, get_dataset, get_tokenizer\n",
    "\n",
    "## Get Config, dataset, tokenizers\n",
    "config_file_path = \"../config.json\"\n",
    "config = load_config(config_file_path)\n",
    "dataset = get_dataset(config)\n",
    "tokenizer_src = get_tokenizer(config, dataset, config['language_source'])\n",
    "tokenizer_tgt = get_tokenizer(config, dataset, config['language_target'])\n",
    "\n",
    "# Define the parameters for the transformer model, the dimensions and vocabulary size\n",
    "vocab_size_src = 10000\n",
    "vocab_size_tgt = 10000\n",
    "seq_len = 100\n",
    "batch_size=1\n",
    "\n",
    "# Create the transformer model\n",
    "transformer = create_tranformer_model(\n",
    "    config,\n",
    "    vocab_size_src,\n",
    "    vocab_size_tgt,\n",
    ")\n",
    "\n",
    "# Now you can use the transformer model for encoding, decoding, and projecting\n",
    "# For example, to encode a batch of source sequences:\n",
    "torch.manual_seed(68) # for reproducible result of random process\n",
    "src = torch.randint(0, vocab_size_src, (batch_size, seq_len))  # [batch_size, seq_len]\n",
    "encoder_output = transformer.encode(src)\n",
    "\n",
    "# And to decode a batch of target sequences:\n",
    "torch.manual_seed(101) # for reproducible result of random process\n",
    "tgt = torch.randint(0, vocab_size_tgt, (batch_size, seq_len))  # [batch_size, seq_len]\n",
    "decoder_output = transformer.decode(tgt, encoder_output)\n",
    "\n",
    "# And to project the decoder output:\n",
    "projected_output = transformer.project(decoder_output)\n",
    "\n",
    "# predicted_token is the indice of the max value in projection_output\n",
    "_, predicted_tokens_tensors = torch.max(projected_output, dim=1) \n",
    "\n",
    "# Explain this\n",
    "predicted_tokens = predicted_tokens_tensors.squeeze(0)\n",
    "predicted_tokens = predicted_tokens.detach().cpu().numpy()\n",
    "\n",
    "## Find the EOS token\n",
    "for idx, eos in enumerate(predicted_tokens):\n",
    "    if eos == 3:\n",
    "        eos_idx = idx\n",
    "        break\n",
    "\n",
    "## Get predicted sequence until EOS\n",
    "\n",
    "predicted_token_sequence = predicted_tokens[:eos_idx]\n",
    "\n",
    "## Word decode\n",
    "# Pass the tensor through the target tokenizer\n",
    "decoded_words = tokenizer_tgt.decode(predicted_token_sequence)\n",
    "\n",
    "print(\"Predicted sequence: \\n\", decoded_words)  "
   ]
  },
  {
   "cell_type": "code",
   "execution_count": null,
   "metadata": {},
   "outputs": [],
   "source": []
  }
 ],
 "metadata": {
  "kernelspec": {
   "display_name": "part3-trans",
   "language": "python",
   "name": "python3"
  },
  "language_info": {
   "codemirror_mode": {
    "name": "ipython",
    "version": 3
   },
   "file_extension": ".py",
   "mimetype": "text/x-python",
   "name": "python",
   "nbconvert_exporter": "python",
   "pygments_lexer": "ipython3",
   "version": "3.11.9"
  }
 },
 "nbformat": 4,
 "nbformat_minor": 2
}
