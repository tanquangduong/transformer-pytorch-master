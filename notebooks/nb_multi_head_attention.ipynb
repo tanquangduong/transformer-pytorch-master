{
 "cells": [
  {
   "cell_type": "markdown",
   "metadata": {},
   "source": [
    "## Example to calculate multi-head attention"
   ]
  },
  {
   "cell_type": "code",
   "execution_count": 1,
   "metadata": {},
   "outputs": [
    {
     "name": "stdout",
     "output_type": "stream",
     "text": [
      "attention: \n",
      " tensor([[[-0.0640,  0.0360,  0.1311, -0.0241,  0.2428, -0.2769],\n",
      "         [-0.0909,  0.0737,  0.0715,  0.0108,  0.2452, -0.0917],\n",
      "         [-0.0948,  0.0871,  0.1243, -0.0052,  0.3086, -0.2440],\n",
      "         [-0.0899,  0.0854,  0.1035,  0.0222,  0.2693, -0.1795],\n",
      "         [-0.0846,  0.0903,  0.1045, -0.0136,  0.2868, -0.2071]]],\n",
      "       grad_fn=<UnsafeViewBackward0>)\n",
      "attention shape: \n",
      " torch.Size([1, 5, 6])\n"
     ]
    }
   ],
   "source": [
    "import sys\n",
    "sys.path.append('../')\n",
    "import torch\n",
    "from transformer.layer import MultiHeadAttention\n",
    "\n",
    "# Initiate config\n",
    "batch_size=1\n",
    "seq_len=5\n",
    "d_model = 6\n",
    "h = 3\n",
    "dropout = 0.1\n",
    "\n",
    "# Create an instance of the MultiHeadAttention class\n",
    "multi_head_attention = MultiHeadAttention(d_model, h, dropout)\n",
    "\n",
    "# Create random tensors to represent a batch of sequences \n",
    "#for query, key, and value\n",
    "torch.manual_seed(68) # for reproducible result of random process\n",
    "input_tensor = torch.rand(batch_size, seq_len, d_model)\n",
    "\n",
    "# Copy input_tensor to new tensors: query, key, value. \n",
    "# Note that these are deep copies, \n",
    "#so changes to the new tensors will not affect the original tensor.\n",
    "query = input_tensor.clone()\n",
    "key = input_tensor.clone()\n",
    "value = input_tensor.clone()\n",
    "\n",
    "# Pass the tensors through the multi-head attention layer\n",
    "attention = multi_head_attention(query, key, value)\n",
    "\n",
    "print(\"attention: \\n\", attention)\n",
    "print(\"attention shape: \\n\", attention.shape)"
   ]
  },
  {
   "cell_type": "code",
   "execution_count": null,
   "metadata": {},
   "outputs": [],
   "source": []
  }
 ],
 "metadata": {
  "kernelspec": {
   "display_name": "part3-trans",
   "language": "python",
   "name": "python3"
  },
  "language_info": {
   "codemirror_mode": {
    "name": "ipython",
    "version": 3
   },
   "file_extension": ".py",
   "mimetype": "text/x-python",
   "name": "python",
   "nbconvert_exporter": "python",
   "pygments_lexer": "ipython3",
   "version": "3.11.9"
  }
 },
 "nbformat": 4,
 "nbformat_minor": 2
}
