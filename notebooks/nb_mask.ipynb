{
 "cells": [
  {
   "cell_type": "code",
   "execution_count": 2,
   "metadata": {},
   "outputs": [
    {
     "name": "stdout",
     "output_type": "stream",
     "text": [
      "encoder_input_ids: \n",
      " tensor([ 2, 68, 72,  3,  1,  1])\n",
      "encoder_input_ids shape: \n",
      " torch.Size([6])\n",
      "\n",
      "\n",
      "encoder_mask: \n",
      " tensor([[[1, 1, 1, 1, 0, 0]]], dtype=torch.int32)\n",
      "encoder_mask shape: \n",
      " torch.Size([1, 1, 6])\n"
     ]
    }
   ],
   "source": [
    "import sys\n",
    "sys.path.append('../')\n",
    "import torch\n",
    "from transformer.mask import create_encoder_mask\n",
    "# Initiate encoder_input_ids and pad_token_id\n",
    "encoder_input_ids = torch.tensor([ 2, 68, 72, 3, 1, 1])\n",
    "pad_token_id = torch.tensor([1])\n",
    "\n",
    "# Create encoder mask\n",
    "encoder_mask = create_encoder_mask(encoder_input_ids, pad_token_id)\n",
    "\n",
    "print(\"encoder_input_ids: \\n\", encoder_input_ids)\n",
    "print(\"encoder_input_ids shape: \\n\", encoder_input_ids.shape)\n",
    "print(\"\\n\")\n",
    "print(\"encoder_mask: \\n\", encoder_mask)\n",
    "print(\"encoder_mask shape: \\n\", encoder_mask.shape)"
   ]
  },
  {
   "cell_type": "code",
   "execution_count": 3,
   "metadata": {},
   "outputs": [
    {
     "name": "stdout",
     "output_type": "stream",
     "text": [
      "decoder_input_ids: tensor([ 2, 68, 72, 96,  1])\n",
      "decoder_input_ids shape: torch.Size([5])\n",
      "\n",
      "\n",
      "padding_mask: \n",
      " tensor([[1, 1, 1, 1, 0]], dtype=torch.int32)\n",
      "padding_mask shape: torch.Size([1, 5])\n",
      "\n",
      "\n"
     ]
    }
   ],
   "source": [
    "import sys\n",
    "sys.path.append('../')\n",
    "import torch\n",
    "from transformer.mask import create_padding_mask, create_causal_mask, create_decoder_mask\n",
    "\n",
    "# Create the inputs \n",
    "decoder_input_ids = torch.tensor([ 2, 68, 72, 96, 1])\n",
    "pad_token_id = torch.tensor([1]) # padding token ID\n",
    "seq_len = 5 # sequence length\n",
    "\n",
    "\n",
    "print(\"decoder_input_ids:\", decoder_input_ids)\n",
    "print(\"decoder_input_ids shape:\", decoder_input_ids.shape)\n",
    "print(\"\\n\")\n",
    "\n",
    "# Create padding mask\n",
    "padding_mask = create_padding_mask(decoder_input_ids, pad_token_id) # (1, seq_len)\n",
    "print(\"padding_mask: \\n\", padding_mask)\n",
    "print(\"padding_mask shape:\", padding_mask.shape)\n",
    "print(\"\\n\")"
   ]
  },
  {
   "cell_type": "code",
   "execution_count": 4,
   "metadata": {},
   "outputs": [
    {
     "name": "stdout",
     "output_type": "stream",
     "text": [
      "causal_mask: \n",
      " tensor([[[ True, False, False, False, False],\n",
      "         [ True,  True, False, False, False],\n",
      "         [ True,  True,  True, False, False],\n",
      "         [ True,  True,  True,  True, False],\n",
      "         [ True,  True,  True,  True,  True]]])\n",
      "causal_mask shape: torch.Size([1, 5, 5])\n",
      "\n",
      "\n",
      "decoder_mask: \n",
      " tensor([[[1, 0, 0, 0, 0],\n",
      "         [1, 1, 0, 0, 0],\n",
      "         [1, 1, 1, 0, 0],\n",
      "         [1, 1, 1, 1, 0],\n",
      "         [1, 1, 1, 1, 0]]], dtype=torch.int32)\n",
      "decoder_mask shape: torch.Size([1, 5, 5])\n"
     ]
    }
   ],
   "source": [
    "# Create a causal mask \n",
    "causal_mask = create_causal_mask(seq_len)\n",
    "print('causal_mask: \\n', causal_mask)\n",
    "print('causal_mask shape:', causal_mask.shape)\n",
    "print(\"\\n\")\n",
    "\n",
    "# Create decoder mask\n",
    "decoder_mask = create_decoder_mask(decoder_input_ids, pad_token_id, seq_len)\n",
    "print('decoder_mask: \\n', decoder_mask)\n",
    "print('decoder_mask shape:', decoder_mask.shape)"
   ]
  },
  {
   "cell_type": "code",
   "execution_count": 5,
   "metadata": {},
   "outputs": [],
   "source": [
    "import sys\n",
    "sys.path.append('../')\n",
    "import torch\n",
    "from transformer.mask import *\n",
    "\n",
    "# Create the inputs \n",
    "en_input_ids = torch.tensor([ 2, 68, 72, 3, 1])\n",
    "de_input_ids = torch.tensor([ 2, 68, 72, 96, 1])\n",
    "pad_id = torch.tensor([1]) # pad token id\n",
    "seq_len = 5 # sequence length\n",
    "\n",
    "# Create encoder mask\n",
    "encoder_mask = create_encoder_mask(en_input_ids, pad_id) \n",
    "# (1, 1, seq_len)\n",
    "\n",
    "# Create padding mask\n",
    "padding_mask = create_padding_mask(de_input_ids, pad_id) \n",
    "# (1, seq_len)\n",
    "\n",
    "# Create a causal mask \n",
    "causal_mask = create_causal_mask(seq_len)\n",
    "# (1, seq_len, seq_len)\n",
    "\n",
    "# Create decoder mask\n",
    "decoder_mask = create_decoder_mask(de_input_ids, pad_id, seq_len)\n",
    "# (1, seq_len, seq_len)"
   ]
  },
  {
   "cell_type": "code",
   "execution_count": null,
   "metadata": {},
   "outputs": [],
   "source": []
  }
 ],
 "metadata": {
  "kernelspec": {
   "display_name": "part3-trans",
   "language": "python",
   "name": "python3"
  },
  "language_info": {
   "codemirror_mode": {
    "name": "ipython",
    "version": 3
   },
   "file_extension": ".py",
   "mimetype": "text/x-python",
   "name": "python",
   "nbconvert_exporter": "python",
   "pygments_lexer": "ipython3",
   "version": "3.11.9"
  }
 },
 "nbformat": 4,
 "nbformat_minor": 2
}
