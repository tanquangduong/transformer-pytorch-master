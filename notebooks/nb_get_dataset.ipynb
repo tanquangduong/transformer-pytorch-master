{
 "cells": [
  {
   "cell_type": "code",
   "execution_count": 1,
   "metadata": {},
   "outputs": [
    {
     "name": "stdout",
     "output_type": "stream",
     "text": [
      "[{'en': '$10,000 Gold?', 'fr': 'L’or à 10.000 dollars l’once\\xa0?'}, {'en': 'SAN FRANCISCO – It has never been easy to have a rational conversation about the value of gold.', 'fr': 'SAN FRANCISCO – Il n’a jamais été facile d’avoir une discussion rationnelle sur la valeur du métal jaune.'}]\n"
     ]
    }
   ],
   "source": [
    "import sys\n",
    "sys.path.append('../')\n",
    "from transformer.utils import load_config, get_dataset\n",
    "\n",
    "## Load config\n",
    "config_file_path = \"../config.json\"\n",
    "config = load_config(config_file_path)\n",
    "\n",
    "# Load dataset\n",
    "dataset = get_dataset(config)\n",
    "print(dataset['translation'][:2])"
   ]
  },
  {
   "cell_type": "code",
   "execution_count": null,
   "metadata": {},
   "outputs": [],
   "source": []
  }
 ],
 "metadata": {
  "kernelspec": {
   "display_name": "part3-trans",
   "language": "python",
   "name": "python3"
  },
  "language_info": {
   "codemirror_mode": {
    "name": "ipython",
    "version": 3
   },
   "file_extension": ".py",
   "mimetype": "text/x-python",
   "name": "python",
   "nbconvert_exporter": "python",
   "pygments_lexer": "ipython3",
   "version": "3.11.9"
  }
 },
 "nbformat": 4,
 "nbformat_minor": 2
}
