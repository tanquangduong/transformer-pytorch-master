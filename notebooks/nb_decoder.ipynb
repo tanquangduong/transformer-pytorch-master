{
 "cells": [
  {
   "cell_type": "code",
   "execution_count": 1,
   "metadata": {},
   "outputs": [
    {
     "name": "stdout",
     "output_type": "stream",
     "text": [
      "Initial input tensor: \n",
      " tensor([[[0.3991, 0.5521, 0.1004, 0.2844, 0.9998, 0.7077],\n",
      "         [0.8031, 0.2066, 0.3589, 0.8509, 0.8753, 0.4669],\n",
      "         [0.6566, 0.6026, 0.2785, 0.1350, 0.2257, 0.9548],\n",
      "         [0.8214, 0.1386, 0.6055, 0.2300, 0.7895, 0.4098]]])\n",
      "Encoder output tensor: \n",
      " tensor([[[0.1980, 0.4503, 0.0909, 0.8872, 0.2894, 0.0186],\n",
      "         [0.9095, 0.3406, 0.4309, 0.7324, 0.4776, 0.0716],\n",
      "         [0.5834, 0.7521, 0.7649, 0.1443, 0.7152, 0.3953],\n",
      "         [0.6244, 0.3684, 0.8823, 0.3746, 0.1458, 0.3671]]])\n",
      "Decoder Output: \n",
      " tensor([[[-1.2699,  0.1697, -0.8311,  1.0900, -0.3297,  1.1709],\n",
      "         [-0.9122, -0.5978, -0.3985,  1.5277, -0.5987,  0.9795],\n",
      "         [-1.1923, -0.7114,  0.1752,  0.8766, -0.5514,  1.4033],\n",
      "         [-1.3068, -0.7457,  0.6277,  1.5092, -0.2169,  0.1326]]],\n",
      "       grad_fn=<AddBackward0>)\n",
      "Decoder Output's shape: \n",
      " torch.Size([1, 4, 6])\n"
     ]
    }
   ],
   "source": [
    "import sys\n",
    "sys.path.append('../')\n",
    "import torch\n",
    "from transformer.layer import MultiHeadAttention, FeedForward, LayerNorm\n",
    "from transformer.decoder import DecoderLayer, Decoder\n",
    "\n",
    "# Define configuration\n",
    "d_model = 6 # feature dimension\n",
    "h = 6 #  number of heads\n",
    "dropout = 0.1 # dropout ratio\n",
    "d_ff = 2048 # the dimension of the feed forward network\n",
    "batch_size = 1 # batch size\n",
    "seq_len = 4 # sequence length\n",
    "num_layers = 3 # number of encoder layer\n",
    "\n",
    "# Create an instance of the MultiHeadAttention and FeedForward classes\n",
    "self_attention = MultiHeadAttention(d_model, h, dropout)\n",
    "encoder_decoder_attention = MultiHeadAttention(d_model, h, dropout)\n",
    "feed_forward = FeedForward(d_model, d_ff, dropout) \n",
    "\n",
    "# Create an instance of the DecoderLayer class\n",
    "decoder_layer = DecoderLayer(d_model, \n",
    "                            self_attention, \n",
    "                            encoder_decoder_attention, \n",
    "                            feed_forward, \n",
    "                            dropout)\n",
    "\n",
    "# Create an instance of the Decoder class\n",
    "decoder = Decoder(d_model, decoder_layer, num_layers)\n",
    "\n",
    "# Create a random tensor to represent a batch of sequences\n",
    "torch.manual_seed(68) # for reproducible result of random process\n",
    "x = torch.rand(batch_size, seq_len, d_model) \n",
    "torch.manual_seed(101) # for reproducible result of random process\n",
    "encoder_output = torch.rand(batch_size, seq_len, d_model) \n",
    "\n",
    "# Pass the tensor through the decoder\n",
    "output = decoder(x, encoder_output)\n",
    "\n",
    "print(\"Initial input tensor: \\n\", x)\n",
    "print(\"Encoder output tensor: \\n\", encoder_output)\n",
    "print(\"Decoder Output: \\n\", output) \n",
    "print(\"Decoder Output's shape: \\n\", output.shape)  "
   ]
  },
  {
   "cell_type": "code",
   "execution_count": null,
   "metadata": {},
   "outputs": [],
   "source": []
  }
 ],
 "metadata": {
  "kernelspec": {
   "display_name": "part3-trans",
   "language": "python",
   "name": "python3"
  },
  "language_info": {
   "codemirror_mode": {
    "name": "ipython",
    "version": 3
   },
   "file_extension": ".py",
   "mimetype": "text/x-python",
   "name": "python",
   "nbconvert_exporter": "python",
   "pygments_lexer": "ipython3",
   "version": "3.11.9"
  }
 },
 "nbformat": 4,
 "nbformat_minor": 2
}
