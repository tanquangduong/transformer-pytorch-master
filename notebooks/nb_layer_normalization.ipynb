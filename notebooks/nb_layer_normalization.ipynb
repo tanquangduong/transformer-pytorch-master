{
 "cells": [
  {
   "cell_type": "code",
   "execution_count": 1,
   "metadata": {},
   "outputs": [
    {
     "name": "stdout",
     "output_type": "stream",
     "text": [
      "Initial input tensor: \n",
      " tensor([[[0.3991, 0.5521, 0.1004, 0.2844, 0.9998],\n",
      "         [0.7077, 0.8031, 0.2066, 0.3589, 0.8509],\n",
      "         [0.8753, 0.4669, 0.6566, 0.6026, 0.2785]]])\n",
      "Normalized sequences: \n",
      " tensor([[[-0.1999,  0.2496, -1.0774, -0.5370,  1.5648],\n",
      "         [ 0.4270,  0.7606, -1.3236, -0.7917,  0.9277],\n",
      "         [ 1.3481, -0.4913,  0.3630,  0.1200, -1.3398]]],\n",
      "       grad_fn=<AddBackward0>)\n",
      "Normalized sequences shape: \n",
      " torch.Size([1, 3, 5])\n"
     ]
    }
   ],
   "source": [
    "import sys\n",
    "sys.path.append('../')\n",
    "import torch\n",
    "from transformer.layer import LayerNorm\n",
    "\n",
    "# Initiate configuration\n",
    "d_model = 5\n",
    "batch_size = 1 \n",
    "seq_len = 3\n",
    "\n",
    "# Create an instance of our LayerNorm class\n",
    "layer_norm = LayerNorm(d_model)\n",
    "\n",
    "# Create a random tensor to represent a batch of sequences\n",
    "torch.manual_seed(68) # for reproducible result of random process\n",
    "x = torch.rand(batch_size, seq_len, d_model)\n",
    "\n",
    "# Pass our sequences through the layer normalization\n",
    "normalized_sequences = layer_norm(x)\n",
    "\n",
    "print(\"Initial input tensor: \\n\", x)\n",
    "print(\"Normalized sequences: \\n\", normalized_sequences)\n",
    "print(\"Normalized sequences shape: \\n\", normalized_sequences.shape) "
   ]
  },
  {
   "cell_type": "code",
   "execution_count": null,
   "metadata": {},
   "outputs": [],
   "source": []
  }
 ],
 "metadata": {
  "kernelspec": {
   "display_name": "part3-trans",
   "language": "python",
   "name": "python3"
  },
  "language_info": {
   "codemirror_mode": {
    "name": "ipython",
    "version": 3
   },
   "file_extension": ".py",
   "mimetype": "text/x-python",
   "name": "python",
   "nbconvert_exporter": "python",
   "pygments_lexer": "ipython3",
   "version": "3.11.9"
  }
 },
 "nbformat": 4,
 "nbformat_minor": 2
}
