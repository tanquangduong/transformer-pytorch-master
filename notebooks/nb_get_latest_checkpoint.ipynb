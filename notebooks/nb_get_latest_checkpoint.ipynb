{
 "cells": [
  {
   "cell_type": "code",
   "execution_count": 1,
   "metadata": {},
   "outputs": [
    {
     "name": "stdout",
     "output_type": "stream",
     "text": [
      "transformer_16.pt\n",
      "../models/transformer_16.pt\n"
     ]
    }
   ],
   "source": [
    "import os\n",
    "\n",
    "# model dir\n",
    "model_dir = \"../models/\"\n",
    "\n",
    "# Get a list of file basenames in the folder \n",
    "file_list = os.listdir(model_dir)\n",
    "file_list.sort()\n",
    "# get latest checkpoint\n",
    "latest_checkpoint = file_list[-1]\n",
    "latest_checkpoint_path = os.path.join(model_dir, latest_checkpoint)\n",
    "\n",
    "print(latest_checkpoint)\n",
    "print(latest_checkpoint_path)"
   ]
  },
  {
   "cell_type": "code",
   "execution_count": null,
   "metadata": {},
   "outputs": [],
   "source": []
  }
 ],
 "metadata": {
  "kernelspec": {
   "display_name": "part3-trans",
   "language": "python",
   "name": "python3"
  },
  "language_info": {
   "codemirror_mode": {
    "name": "ipython",
    "version": 3
   },
   "file_extension": ".py",
   "mimetype": "text/x-python",
   "name": "python",
   "nbconvert_exporter": "python",
   "pygments_lexer": "ipython3",
   "version": "3.11.9"
  }
 },
 "nbformat": 4,
 "nbformat_minor": 2
}
