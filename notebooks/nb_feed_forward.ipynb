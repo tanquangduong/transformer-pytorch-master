{
 "cells": [
  {
   "cell_type": "code",
   "execution_count": 1,
   "metadata": {},
   "outputs": [
    {
     "name": "stdout",
     "output_type": "stream",
     "text": [
      "Initial input tensor: \n",
      " tensor([[[0.3991, 0.5521, 0.1004, 0.2844, 0.9998],\n",
      "         [0.7077, 0.8031, 0.2066, 0.3589, 0.8509],\n",
      "         [0.8753, 0.4669, 0.6566, 0.6026, 0.2785],\n",
      "         [0.1350, 0.2257, 0.9548, 0.8214, 0.1386]]])\n",
      "Output: \n",
      " tensor([[[-0.5239, -0.0600, -0.0173,  0.3016, -0.2600],\n",
      "         [-0.4137, -0.2752, -0.0732,  0.2531, -0.3875],\n",
      "         [-0.2269, -0.2664,  0.1438,  0.1331, -0.3904],\n",
      "         [-0.1558, -0.0984,  0.0464,  0.2384, -0.4390]]],\n",
      "       grad_fn=<ViewBackward0>)\n",
      "Output's shape: \n",
      " torch.Size([1, 4, 5])\n"
     ]
    }
   ],
   "source": [
    "import sys\n",
    "sys.path.append('../')\n",
    "import torch\n",
    "from transformer.layer import FeedForward\n",
    "\n",
    "# Initiate configuration\n",
    "d_model = 5\n",
    "batch_size=1 \n",
    "seq_len=4\n",
    "d_ff = 2048\n",
    "dropout = 0.1\n",
    "\n",
    "# Create an instance of the FeedForward class\n",
    "ff = FeedForward(d_model, d_ff, dropout)\n",
    "\n",
    "# Create a random tensor to represent a batch of sequences\n",
    "torch.manual_seed(68) # for reproducible result of random process\n",
    "x = torch.rand(batch_size, seq_len, d_model)  \n",
    "\n",
    "# Pass the tensor through the feed-forward network\n",
    "output = ff(x)\n",
    "\n",
    "print(\"Initial input tensor: \\n\", x)\n",
    "print(\"Output: \\n\", output) \n",
    "print(\"Output's shape: \\n\", output.shape)  "
   ]
  },
  {
   "cell_type": "code",
   "execution_count": null,
   "metadata": {},
   "outputs": [],
   "source": []
  }
 ],
 "metadata": {
  "kernelspec": {
   "display_name": "part3-trans",
   "language": "python",
   "name": "python3"
  },
  "language_info": {
   "codemirror_mode": {
    "name": "ipython",
    "version": 3
   },
   "file_extension": ".py",
   "mimetype": "text/x-python",
   "name": "python",
   "nbconvert_exporter": "python",
   "pygments_lexer": "ipython3",
   "version": "3.11.9"
  }
 },
 "nbformat": 4,
 "nbformat_minor": 2
}
