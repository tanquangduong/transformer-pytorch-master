{
 "cells": [
  {
   "cell_type": "code",
   "execution_count": 1,
   "metadata": {},
   "outputs": [
    {
     "name": "stdout",
     "output_type": "stream",
     "text": [
      "embedded_sequences: \n",
      " tensor([[[ 3.5123,  4.4892,  2.8287,  2.2320,  0.8646],\n",
      "         [ 0.7476,  2.4628, -1.6785,  1.9066,  2.9217],\n",
      "         [ 0.1498, -3.3520,  1.6961, -1.6574,  2.1439],\n",
      "         [-2.8683,  3.9119, -1.9055,  2.0164, -1.6667]],\n",
      "\n",
      "        [[-1.5769,  1.5239, -1.1105,  0.9280, -0.1988],\n",
      "         [ 1.6476, -1.0418,  3.0936,  0.1174,  5.6826],\n",
      "         [ 1.7089,  2.6973,  0.8928, -1.7525, -0.8210],\n",
      "         [ 3.3617, -0.9897,  1.5845,  1.0986,  2.0192]]],\n",
      "       grad_fn=<MulBackward0>)\n",
      "embedded_sequences shape: \n",
      " torch.Size([2, 4, 5])\n"
     ]
    }
   ],
   "source": [
    "import sys\n",
    "sys.path.append('../')\n",
    "import torch\n",
    "from transformer.layer import InputEmbedding\n",
    "\n",
    "# Initiate parammeters\n",
    "vocab_size = 10\n",
    "d_model = 5\n",
    "\n",
    "# Create an instance of our InputEmbedding class\n",
    "input_embedding = InputEmbedding(vocab_size, d_model)\n",
    "\n",
    "# Suppose we have the following batch of 2 sequences \n",
    "# Each sequence has 4 words (sequence length of 4)\n",
    "# The numbers represent the index of the word in the vocabulary\n",
    "sequences = torch.tensor([[1, 2, 3, 4], [5, 6, 7, 8]])\n",
    "\n",
    "# Pass our sequences through the input embedding\n",
    "embedded_sequences = input_embedding(sequences)\n",
    "\n",
    "print(\"embedded_sequences: \\n\", embedded_sequences)\n",
    "print(\"embedded_sequences shape: \\n\", embedded_sequences.shape) "
   ]
  },
  {
   "cell_type": "code",
   "execution_count": 2,
   "metadata": {},
   "outputs": [
    {
     "data": {
      "text/plain": [
       "tensor([[1, 2, 3, 4],\n",
       "        [5, 6, 7, 8]])"
      ]
     },
     "execution_count": 2,
     "metadata": {},
     "output_type": "execute_result"
    }
   ],
   "source": [
    "sequences"
   ]
  },
  {
   "cell_type": "code",
   "execution_count": 3,
   "metadata": {},
   "outputs": [
    {
     "data": {
      "text/plain": [
       "torch.Size([2, 4])"
      ]
     },
     "execution_count": 3,
     "metadata": {},
     "output_type": "execute_result"
    }
   ],
   "source": [
    "sequences.shape"
   ]
  },
  {
   "cell_type": "code",
   "execution_count": null,
   "metadata": {},
   "outputs": [],
   "source": []
  }
 ],
 "metadata": {
  "kernelspec": {
   "display_name": "part3-trans",
   "language": "python",
   "name": "python3"
  },
  "language_info": {
   "codemirror_mode": {
    "name": "ipython",
    "version": 3
   },
   "file_extension": ".py",
   "mimetype": "text/x-python",
   "name": "python",
   "nbconvert_exporter": "python",
   "pygments_lexer": "ipython3",
   "version": "3.11.9"
  }
 },
 "nbformat": 4,
 "nbformat_minor": 2
}
