{
 "cells": [
  {
   "cell_type": "code",
   "execution_count": 1,
   "metadata": {},
   "outputs": [
    {
     "name": "stdout",
     "output_type": "stream",
     "text": [
      "positional_feature: \n",
      " tensor([[[0.4434, 1.7245, 0.1116, 1.4271, 1.1109, 1.8974],\n",
      "         [1.8273, 0.8299, 0.4503, 2.0554, 0.9750, 1.6299],\n",
      "         [1.7398, 0.2072, 0.0000, 1.2564, 0.2556, 2.1720]]])\n",
      "positional_feature shape: \n",
      " torch.Size([1, 3, 6])\n"
     ]
    }
   ],
   "source": [
    "import sys\n",
    "sys.path.append('../')\n",
    "import torch\n",
    "from transformer.layer import PositionalEncoding\n",
    "\n",
    "# Initiate parammeters\n",
    "seq_len = 3\n",
    "d_model = 6\n",
    "batch_size = 1\n",
    "dropout = 0.1\n",
    "\n",
    "# Create an instance of our PositionalEncoding class\n",
    "pos_encoding = PositionalEncoding(d_model, seq_len, dropout)\n",
    "\n",
    "# Create a random embedded sequence\n",
    "torch.manual_seed(68) # for reproducible result of random process\n",
    "x = torch.rand(batch_size, seq_len, d_model)\n",
    "\n",
    "# Pass our sequences through the positional encoding\n",
    "positional_feature = pos_encoding(x)\n",
    "\n",
    "print(\"positional_feature: \\n\", positional_feature)\n",
    "print(\"positional_feature shape: \\n\", positional_feature.shape)  "
   ]
  },
  {
   "cell_type": "code",
   "execution_count": null,
   "metadata": {},
   "outputs": [],
   "source": []
  }
 ],
 "metadata": {
  "kernelspec": {
   "display_name": "part3-trans",
   "language": "python",
   "name": "python3"
  },
  "language_info": {
   "codemirror_mode": {
    "name": "ipython",
    "version": 3
   },
   "file_extension": ".py",
   "mimetype": "text/x-python",
   "name": "python",
   "nbconvert_exporter": "python",
   "pygments_lexer": "ipython3",
   "version": "3.11.9"
  }
 },
 "nbformat": 4,
 "nbformat_minor": 2
}
