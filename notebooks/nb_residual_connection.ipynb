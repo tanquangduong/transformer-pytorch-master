{
 "cells": [
  {
   "cell_type": "code",
   "execution_count": 1,
   "metadata": {},
   "outputs": [
    {
     "name": "stdout",
     "output_type": "stream",
     "text": [
      "Initial input tensor: \n",
      " tensor([[[0.3991, 0.5521, 0.1004, 0.2844, 0.9998],\n",
      "         [0.7077, 0.8031, 0.2066, 0.3589, 0.8509],\n",
      "         [0.8753, 0.4669, 0.6566, 0.6026, 0.2785]]])\n",
      "Output shape: \n",
      " torch.Size([1, 3, 5])\n",
      "Output: \n",
      " tensor([[[-0.0151,  0.4926, -0.3319,  0.2986,  1.0433],\n",
      "         [ 0.2270,  0.8181, -0.1114,  0.5547,  0.8759],\n",
      "         [ 0.9199, -0.0939,  0.5495,  1.1020, -0.1033]]],\n",
      "       grad_fn=<AddBackward0>)\n"
     ]
    }
   ],
   "source": [
    "import sys\n",
    "sys.path.append('../')\n",
    "import torch\n",
    "from transformer.layer import FeedForward, ResidualConnection\n",
    "\n",
    "# Initiate configuration\n",
    "d_model = 5\n",
    "d_ff=2048\n",
    "batch_size=1 \n",
    "seq_len=3\n",
    "dropout = 0.1\n",
    "\n",
    "# Create an instance of the ResidualConnection and FeedForward classes\n",
    "residual_connection = ResidualConnection(d_model, dropout)\n",
    "feed_forward = FeedForward(d_model, d_ff=d_ff, dropout=dropout)\n",
    "\n",
    "# Create a random tensor to represent a batch of sequences\n",
    "torch.manual_seed(68) # for reproducible result of random process\n",
    "x = torch.rand(batch_size, seq_len, d_model)  \n",
    "\n",
    "# Pass the tensor through the residual connection \n",
    "# with feed forward as the sublayer\n",
    "output = residual_connection(x, feed_forward)\n",
    "\n",
    "print(\"Initial input tensor: \\n\", x)\n",
    "print(\"Output shape: \\n\", output.shape) \n",
    "print(\"Output: \\n\", output)"
   ]
  },
  {
   "cell_type": "code",
   "execution_count": null,
   "metadata": {},
   "outputs": [],
   "source": []
  }
 ],
 "metadata": {
  "kernelspec": {
   "display_name": "part3-trans",
   "language": "python",
   "name": "python3"
  },
  "language_info": {
   "codemirror_mode": {
    "name": "ipython",
    "version": 3
   },
   "file_extension": ".py",
   "mimetype": "text/x-python",
   "name": "python",
   "nbconvert_exporter": "python",
   "pygments_lexer": "ipython3",
   "version": "3.11.9"
  }
 },
 "nbformat": 4,
 "nbformat_minor": 2
}
