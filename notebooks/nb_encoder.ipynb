{
 "cells": [
  {
   "cell_type": "code",
   "execution_count": 1,
   "metadata": {},
   "outputs": [
    {
     "name": "stdout",
     "output_type": "stream",
     "text": [
      "Initial input tensor: \n",
      " tensor([[[0.3991, 0.5521, 0.1004, 0.2844, 0.9998, 0.7077],\n",
      "         [0.8031, 0.2066, 0.3589, 0.8509, 0.8753, 0.4669],\n",
      "         [0.6566, 0.6026, 0.2785, 0.1350, 0.2257, 0.9548],\n",
      "         [0.8214, 0.1386, 0.6055, 0.2300, 0.7895, 0.4098]]])\n",
      "Encoder Output: \n",
      " tensor([[[ 0.1543,  1.1388,  0.1147, -0.8898,  0.9116, -1.4296],\n",
      "         [ 0.3255,  1.0276,  0.2614,  0.1434,  0.1709, -1.9287],\n",
      "         [ 0.5624,  1.2055,  0.2833, -0.7622,  0.2878, -1.5769],\n",
      "         [ 0.7441,  0.1962,  0.7116, -0.7378,  0.7552, -1.6693]]],\n",
      "       grad_fn=<AddBackward0>)\n",
      "Encoder Output's shape: \n",
      " torch.Size([1, 4, 6])\n"
     ]
    }
   ],
   "source": [
    "import sys\n",
    "sys.path.append('../')\n",
    "import torch\n",
    "from transformer.layer import MultiHeadAttention, FeedForward, LayerNorm\n",
    "from transformer.encoder import EncoderLayer, Encoder\n",
    "\n",
    "# Define configuration\n",
    "d_model = 6 # feature dimension\n",
    "h = 3 #  number of heads\n",
    "dropout = 0.1 # dropout ratio\n",
    "d_ff = 2048 # the dimension of the feed forward network\n",
    "batch = 1 # batch size\n",
    "seq_len = 4 # sequence length\n",
    "\n",
    "num_layers = 3 # number of encoder layer\n",
    "\n",
    "# Create an instance of the MultiHeadAttention and FeedForward classes\n",
    "self_attention_engine = MultiHeadAttention(d_model, h, dropout)\n",
    "feed_forward = FeedForward(d_model, d_ff, dropout)  \n",
    "\n",
    "# Create an instance of the EncoderLayer class\n",
    "encoder_layer = EncoderLayer(d_model, self_attention_engine, feed_forward, dropout)\n",
    "\n",
    "# Create an instance of the Encoder class\n",
    "encoder = Encoder(d_model, encoder_layer, num_layers)\n",
    "\n",
    "# Create a random tensor to represent a batch of sequences\n",
    "torch.manual_seed(68) # for reproducible result of random process\n",
    "x = torch.rand(batch, seq_len, d_model)  \n",
    "\n",
    "# Pass the tensor through the encoder\n",
    "output = encoder(x)\n",
    "\n",
    "print(\"Initial input tensor: \\n\", x)\n",
    "print(\"Encoder Output: \\n\", output)\n",
    "print(\"Encoder Output's shape: \\n\", output.shape)  "
   ]
  },
  {
   "cell_type": "code",
   "execution_count": null,
   "metadata": {},
   "outputs": [],
   "source": []
  }
 ],
 "metadata": {
  "kernelspec": {
   "display_name": "part3-trans",
   "language": "python",
   "name": "python3"
  },
  "language_info": {
   "codemirror_mode": {
    "name": "ipython",
    "version": 3
   },
   "file_extension": ".py",
   "mimetype": "text/x-python",
   "name": "python",
   "nbconvert_exporter": "python",
   "pygments_lexer": "ipython3",
   "version": "3.11.9"
  }
 },
 "nbformat": 4,
 "nbformat_minor": 2
}
