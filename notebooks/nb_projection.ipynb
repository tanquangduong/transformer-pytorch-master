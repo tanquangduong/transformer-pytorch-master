{
 "cells": [
  {
   "cell_type": "code",
   "execution_count": 1,
   "metadata": {},
   "outputs": [
    {
     "name": "stdout",
     "output_type": "stream",
     "text": [
      "Initial input tensor: \n",
      " tensor([[[0.3991, 0.5521, 0.1004, 0.2844, 0.9998],\n",
      "         [0.7077, 0.8031, 0.2066, 0.3589, 0.8509],\n",
      "         [0.8753, 0.4669, 0.6566, 0.6026, 0.2785]]])\n",
      "Output: \n",
      " tensor([[[-0.4039, -0.5872, -0.5033, -0.6397, -0.1658,  0.8479, -0.0571],\n",
      "         [-0.5444, -0.6634, -0.6973, -0.6939, -0.0122,  0.7355,  0.1277],\n",
      "         [-0.4958, -0.4324, -0.8763, -0.5052,  0.2993,  0.4937,  0.0798]]],\n",
      "       grad_fn=<ViewBackward0>)\n",
      "Output shape: \n",
      " torch.Size([1, 3, 7])\n"
     ]
    }
   ],
   "source": [
    "import sys\n",
    "sys.path.append('../')\n",
    "import torch\n",
    "from transformer.layer import Projection\n",
    "\n",
    "# Initiate configuration\n",
    "d_model = 5\n",
    "vocab_size = 7\n",
    "batch_size=1 \n",
    "seq_len=3\n",
    "\n",
    "# Create an instance of the Projection class\n",
    "projection = Projection(d_model, vocab_size)\n",
    "\n",
    "# Create a random tensor to represent a batch of sequences\n",
    "torch.manual_seed(68) # for reproducible result of random process\n",
    "x = torch.rand(batch_size, seq_len, d_model) \n",
    "\n",
    "# Pass the tensor through the projection\n",
    "output = projection(x)\n",
    "\n",
    "print(\"Initial input tensor: \\n\", x)\n",
    "print(\"Output: \\n\", output)\n",
    "print(\"Output shape: \\n\", output.shape) "
   ]
  },
  {
   "cell_type": "code",
   "execution_count": null,
   "metadata": {},
   "outputs": [],
   "source": []
  }
 ],
 "metadata": {
  "kernelspec": {
   "display_name": "part3-trans",
   "language": "python",
   "name": "python3"
  },
  "language_info": {
   "codemirror_mode": {
    "name": "ipython",
    "version": 3
   },
   "file_extension": ".py",
   "mimetype": "text/x-python",
   "name": "python",
   "nbconvert_exporter": "python",
   "pygments_lexer": "ipython3",
   "version": "3.11.9"
  }
 },
 "nbformat": 4,
 "nbformat_minor": 2
}
