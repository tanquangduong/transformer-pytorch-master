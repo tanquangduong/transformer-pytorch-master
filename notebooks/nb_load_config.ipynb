{
 "cells": [
  {
   "cell_type": "code",
   "execution_count": 1,
   "metadata": {},
   "outputs": [],
   "source": [
    "import sys\n",
    "sys.path.append('../')\n",
    "from transformer.utils import load_config\n",
    "\n",
    "config_file_path = \"../config.json\"\n",
    "config = load_config(config_file_path)"
   ]
  },
  {
   "cell_type": "code",
   "execution_count": 2,
   "metadata": {},
   "outputs": [
    {
     "data": {
      "text/plain": [
       "{'dataset_name': 'news_commentary',\n",
       " 'language_source': 'en',\n",
       " 'language_target': 'fr',\n",
       " 'split': 'train',\n",
       " 'seq_len': 360,\n",
       " 'd_model': 512,\n",
       " 'h': 8,\n",
       " 'num_layers': 6,\n",
       " 'd_ff': 2048,\n",
       " 'dropout': 0.1,\n",
       " 'learning_rate': 0.0001,\n",
       " 'epochs': 20,\n",
       " 'batch_size': 8,\n",
       " 'model_dir': 'models',\n",
       " 'model_name': 'transformer_',\n",
       " 'preload': 'latest',\n",
       " 'tokenizer_name': 'tokenizer_',\n",
       " 'log_dir': 'logs',\n",
       " 'num_eval_samples': 3}"
      ]
     },
     "execution_count": 2,
     "metadata": {},
     "output_type": "execute_result"
    }
   ],
   "source": [
    "config"
   ]
  },
  {
   "cell_type": "code",
   "execution_count": 3,
   "metadata": {},
   "outputs": [
    {
     "name": "stdout",
     "output_type": "stream",
     "text": [
      "Source language: en\n",
      "Target language: fr\n",
      "Batch size: 8\n",
      "Epochs: 20\n"
     ]
    }
   ],
   "source": [
    "print(\"Source language:\", config['language_source'])\n",
    "print(\"Target language:\", config['language_target'])\n",
    "print(\"Batch size:\", config['batch_size'])\n",
    "print(\"Epochs:\", config['epochs'])"
   ]
  },
  {
   "cell_type": "code",
   "execution_count": null,
   "metadata": {},
   "outputs": [],
   "source": []
  }
 ],
 "metadata": {
  "kernelspec": {
   "display_name": "part3-trans",
   "language": "python",
   "name": "python3"
  },
  "language_info": {
   "codemirror_mode": {
    "name": "ipython",
    "version": 3
   },
   "file_extension": ".py",
   "mimetype": "text/x-python",
   "name": "python",
   "nbconvert_exporter": "python",
   "pygments_lexer": "ipython3",
   "version": "3.11.9"
  }
 },
 "nbformat": 4,
 "nbformat_minor": 2
}
